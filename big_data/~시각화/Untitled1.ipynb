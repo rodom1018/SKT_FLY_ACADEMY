{
 "cells": [
  {
   "cell_type": "code",
   "execution_count": 2,
   "id": "295c11d9",
   "metadata": {},
   "outputs": [],
   "source": [
    "import requests\n",
    "from bs4 import BeautifulSoup as bs\n",
    "\n",
    "res = requests.get('https://finance.naver.com/')\n",
    "soup = bs(res.content, 'html.parser')"
   ]
  },
  {
   "cell_type": "code",
   "execution_count": 39,
   "id": "ba36c1f9",
   "metadata": {},
   "outputs": [
    {
     "name": "stdout",
     "output_type": "stream",
     "text": [
      "['\\nKODEX 200선물인버스2X\\n3,330\\n하락 15\\n  -0.45%  \\n', '\\n에이루트\\n547\\n상승 102\\n  +22.92%  \\n', '\\nKODEX 코스닥150선물인버스\\n5,105\\n하락 15\\n  -0.29%  \\n', '\\nKODEX 레버리지\\n14,200\\n상승 95\\n  +0.67%  \\n', '\\n켐온\\n3,200\\n상승 375\\n  +13.27%  \\n', '\\nKODEX 인버스\\n5,025\\n하락 10\\n  -0.20%  \\n', '\\n알로이스\\n2,105\\n상승 380\\n  +22.03%  \\n', '\\nKODEX 코스닥150레버리지\\n8,290\\n상승 40\\n  +0.48%  \\n', '\\n국전약품\\n9,500\\n상승 510\\n  +5.67%  \\n', '\\n삼성 인버스 2X WTI원유 선물 ETN\\n130\\n보합\\n  0.00%  \\n', '\\n진원생명과학\\n15,200\\n상승 350\\n  +2.36%  \\n', '\\n홈센타홀딩스\\n1,310\\n상승 95\\n  +7.82%  \\n', '\\n셀루메드\\n5,770\\n상승 740\\n  +14.71%  \\n', '\\n이화전기\\n955\\n하락 140\\n  -12.79%  \\n', '\\n대한전선\\n1,615\\n하락 30\\n  -1.82%  \\n']\n"
     ]
    }
   ],
   "source": [
    "result = soup.select('#_topItems1 > tr')\n",
    "my_list = []\n",
    "for i in result:\n",
    "    my_list.append(i.text)\n",
    "print(my_list)"
   ]
  },
  {
   "cell_type": "code",
   "execution_count": 42,
   "id": "2168d45b",
   "metadata": {},
   "outputs": [
    {
     "name": "stdout",
     "output_type": "stream",
     "text": [
      "[['KODEX 200선물인버스2X', '3,330', '하락 15', '  -0.45%  '], ['에이루트', '547', '상승 102', '  +22.92%  '], ['KODEX 코스닥150선물인버스', '5,105', '하락 15', '  -0.29%  '], ['KODEX 레버리지', '14,200', '상승 95', '  +0.67%  '], ['켐온', '3,200', '상승 375', '  +13.27%  '], ['KODEX 인버스', '5,025', '하락 10', '  -0.20%  '], ['알로이스', '2,105', '상승 380', '  +22.03%  '], ['KODEX 코스닥150레버리지', '8,290', '상승 40', '  +0.48%  '], ['국전약품', '9,500', '상승 510', '  +5.67%  '], ['삼성 인버스 2X WTI원유 선물 ETN', '130', '보합', '  0.00%  '], ['진원생명과학', '15,200', '상승 350', '  +2.36%  '], ['홈센타홀딩스', '1,310', '상승 95', '  +7.82%  '], ['셀루메드', '5,770', '상승 740', '  +14.71%  '], ['이화전기', '955', '하락 140', '  -12.79%  '], ['대한전선', '1,615', '하락 30', '  -1.82%  ']]\n"
     ]
    }
   ],
   "source": [
    "final_list = []\n",
    "for i in range(len(my_list)):\n",
    "    temp = my_list[i].split('\\n')\n",
    "    #print(temp)\n",
    "    temp = temp[1:5]\n",
    "    #print(temp)\n",
    "    final_list.append(temp)\n",
    "\n",
    "print(final_list)"
   ]
  },
  {
   "cell_type": "code",
   "execution_count": 33,
   "id": "4557a556",
   "metadata": {},
   "outputs": [
    {
     "name": "stdout",
     "output_type": "stream",
     "text": [
      "Requirement already satisfied: pandas in c:\\users\\016\\anaconda3\\lib\\site-packages (1.4.2)\n",
      "Requirement already satisfied: python-dateutil>=2.8.1 in c:\\users\\016\\anaconda3\\lib\\site-packages (from pandas) (2.8.2)\n",
      "Requirement already satisfied: pytz>=2020.1 in c:\\users\\016\\anaconda3\\lib\\site-packages (from pandas) (2021.3)\n",
      "Requirement already satisfied: numpy>=1.18.5 in c:\\users\\016\\anaconda3\\lib\\site-packages (from pandas) (1.21.5)\n",
      "Requirement already satisfied: six>=1.5 in c:\\users\\016\\anaconda3\\lib\\site-packages (from python-dateutil>=2.8.1->pandas) (1.16.0)\n"
     ]
    }
   ],
   "source": [
    "!pip install pandas\n",
    "import pandas as pd"
   ]
  },
  {
   "cell_type": "code",
   "execution_count": 45,
   "id": "870e527d",
   "metadata": {},
   "outputs": [
    {
     "data": {
      "text/html": [
       "<div>\n",
       "<style scoped>\n",
       "    .dataframe tbody tr th:only-of-type {\n",
       "        vertical-align: middle;\n",
       "    }\n",
       "\n",
       "    .dataframe tbody tr th {\n",
       "        vertical-align: top;\n",
       "    }\n",
       "\n",
       "    .dataframe thead th {\n",
       "        text-align: right;\n",
       "    }\n",
       "</style>\n",
       "<table border=\"1\" class=\"dataframe\">\n",
       "  <thead>\n",
       "    <tr style=\"text-align: right;\">\n",
       "      <th></th>\n",
       "      <th>0</th>\n",
       "      <th>1</th>\n",
       "      <th>2</th>\n",
       "      <th>3</th>\n",
       "    </tr>\n",
       "  </thead>\n",
       "  <tbody>\n",
       "    <tr>\n",
       "      <th>0</th>\n",
       "      <td>KODEX 200선물인버스2X</td>\n",
       "      <td>3,330</td>\n",
       "      <td>하락 15</td>\n",
       "      <td>-0.45%</td>\n",
       "    </tr>\n",
       "    <tr>\n",
       "      <th>1</th>\n",
       "      <td>에이루트</td>\n",
       "      <td>547</td>\n",
       "      <td>상승 102</td>\n",
       "      <td>+22.92%</td>\n",
       "    </tr>\n",
       "    <tr>\n",
       "      <th>2</th>\n",
       "      <td>KODEX 코스닥150선물인버스</td>\n",
       "      <td>5,105</td>\n",
       "      <td>하락 15</td>\n",
       "      <td>-0.29%</td>\n",
       "    </tr>\n",
       "    <tr>\n",
       "      <th>3</th>\n",
       "      <td>KODEX 레버리지</td>\n",
       "      <td>14,200</td>\n",
       "      <td>상승 95</td>\n",
       "      <td>+0.67%</td>\n",
       "    </tr>\n",
       "    <tr>\n",
       "      <th>4</th>\n",
       "      <td>켐온</td>\n",
       "      <td>3,200</td>\n",
       "      <td>상승 375</td>\n",
       "      <td>+13.27%</td>\n",
       "    </tr>\n",
       "    <tr>\n",
       "      <th>5</th>\n",
       "      <td>KODEX 인버스</td>\n",
       "      <td>5,025</td>\n",
       "      <td>하락 10</td>\n",
       "      <td>-0.20%</td>\n",
       "    </tr>\n",
       "    <tr>\n",
       "      <th>6</th>\n",
       "      <td>알로이스</td>\n",
       "      <td>2,105</td>\n",
       "      <td>상승 380</td>\n",
       "      <td>+22.03%</td>\n",
       "    </tr>\n",
       "    <tr>\n",
       "      <th>7</th>\n",
       "      <td>KODEX 코스닥150레버리지</td>\n",
       "      <td>8,290</td>\n",
       "      <td>상승 40</td>\n",
       "      <td>+0.48%</td>\n",
       "    </tr>\n",
       "    <tr>\n",
       "      <th>8</th>\n",
       "      <td>국전약품</td>\n",
       "      <td>9,500</td>\n",
       "      <td>상승 510</td>\n",
       "      <td>+5.67%</td>\n",
       "    </tr>\n",
       "    <tr>\n",
       "      <th>9</th>\n",
       "      <td>삼성 인버스 2X WTI원유 선물 ETN</td>\n",
       "      <td>130</td>\n",
       "      <td>보합</td>\n",
       "      <td>0.00%</td>\n",
       "    </tr>\n",
       "    <tr>\n",
       "      <th>10</th>\n",
       "      <td>진원생명과학</td>\n",
       "      <td>15,200</td>\n",
       "      <td>상승 350</td>\n",
       "      <td>+2.36%</td>\n",
       "    </tr>\n",
       "    <tr>\n",
       "      <th>11</th>\n",
       "      <td>홈센타홀딩스</td>\n",
       "      <td>1,310</td>\n",
       "      <td>상승 95</td>\n",
       "      <td>+7.82%</td>\n",
       "    </tr>\n",
       "    <tr>\n",
       "      <th>12</th>\n",
       "      <td>셀루메드</td>\n",
       "      <td>5,770</td>\n",
       "      <td>상승 740</td>\n",
       "      <td>+14.71%</td>\n",
       "    </tr>\n",
       "    <tr>\n",
       "      <th>13</th>\n",
       "      <td>이화전기</td>\n",
       "      <td>955</td>\n",
       "      <td>하락 140</td>\n",
       "      <td>-12.79%</td>\n",
       "    </tr>\n",
       "    <tr>\n",
       "      <th>14</th>\n",
       "      <td>대한전선</td>\n",
       "      <td>1,615</td>\n",
       "      <td>하락 30</td>\n",
       "      <td>-1.82%</td>\n",
       "    </tr>\n",
       "  </tbody>\n",
       "</table>\n",
       "</div>"
      ],
      "text/plain": [
       "                         0       1       2            3\n",
       "0         KODEX 200선물인버스2X   3,330   하락 15     -0.45%  \n",
       "1                     에이루트     547  상승 102    +22.92%  \n",
       "2        KODEX 코스닥150선물인버스   5,105   하락 15     -0.29%  \n",
       "3               KODEX 레버리지  14,200   상승 95     +0.67%  \n",
       "4                       켐온   3,200  상승 375    +13.27%  \n",
       "5                KODEX 인버스   5,025   하락 10     -0.20%  \n",
       "6                     알로이스   2,105  상승 380    +22.03%  \n",
       "7         KODEX 코스닥150레버리지   8,290   상승 40     +0.48%  \n",
       "8                     국전약품   9,500  상승 510     +5.67%  \n",
       "9   삼성 인버스 2X WTI원유 선물 ETN     130      보합      0.00%  \n",
       "10                  진원생명과학  15,200  상승 350     +2.36%  \n",
       "11                  홈센타홀딩스   1,310   상승 95     +7.82%  \n",
       "12                    셀루메드   5,770  상승 740    +14.71%  \n",
       "13                    이화전기     955  하락 140    -12.79%  \n",
       "14                    대한전선   1,615   하락 30     -1.82%  "
      ]
     },
     "execution_count": 45,
     "metadata": {},
     "output_type": "execute_result"
    }
   ],
   "source": [
    "data = pd.DataFrame(final_list)\n",
    "data"
   ]
  },
  {
   "cell_type": "code",
   "execution_count": null,
   "id": "a3eb7e32",
   "metadata": {},
   "outputs": [],
   "source": []
  }
 ],
 "metadata": {
  "kernelspec": {
   "display_name": "Python 3 (ipykernel)",
   "language": "python",
   "name": "python3"
  },
  "language_info": {
   "codemirror_mode": {
    "name": "ipython",
    "version": 3
   },
   "file_extension": ".py",
   "mimetype": "text/x-python",
   "name": "python",
   "nbconvert_exporter": "python",
   "pygments_lexer": "ipython3",
   "version": "3.9.12"
  }
 },
 "nbformat": 4,
 "nbformat_minor": 5
}
