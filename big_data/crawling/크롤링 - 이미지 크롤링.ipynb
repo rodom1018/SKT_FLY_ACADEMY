{
 "cells": [
  {
   "cell_type": "code",
   "execution_count": 12,
   "id": "9b3898f3",
   "metadata": {},
   "outputs": [
    {
     "data": {
      "text/plain": [
       "[<img alt=\"comic content\" oncontextmenu=\"return false\" ondragstart=\"return false\" onerror=\"this.src='https://ssl.pstatic.net/static/comic/images/migration/common/blank.gif'\" onload=\"loadImageEvent(this);\" onselectstart=\"return false\" src=\"https://image-comic.pstatic.net/webtoon/img-ctguide-white.png\" title=\"\"/>,\n",
       " <img alt=\"comic content\" class=\"\" id=\"content_image_0\" oncontextmenu=\"return false\" ondragstart=\"return false\" onerror=\"this.src='https://ssl.pstatic.net/static/comic/images/migration/common/blank.gif'\" onload=\"loadImageEvent(this);\" onselectstart=\"return false\" src=\"https://image-comic.pstatic.net/webtoon/748105/184/20220713180003_94a4101aaed6f394799d5db42b77ddc0_IMAG01_1.jpg\" title=\"\"/>,\n",
       " <img alt=\"comic content\" class=\"\" id=\"content_image_1\" oncontextmenu=\"return false\" ondragstart=\"return false\" onerror=\"this.src='https://ssl.pstatic.net/static/comic/images/migration/common/blank.gif'\" onload=\"loadImageEvent(this);\" onselectstart=\"return false\" src=\"https://image-comic.pstatic.net/webtoon/748105/184/20220713180003_94a4101aaed6f394799d5db42b77ddc0_IMAG01_2.jpg\" title=\"\"/>,\n",
       " <img alt=\"comic content\" class=\"\" id=\"content_image_2\" oncontextmenu=\"return false\" ondragstart=\"return false\" onerror=\"this.src='https://ssl.pstatic.net/static/comic/images/migration/common/blank.gif'\" onload=\"loadImageEvent(this);\" onselectstart=\"return false\" src=\"https://image-comic.pstatic.net/webtoon/748105/184/20220713180003_94a4101aaed6f394799d5db42b77ddc0_IMAG01_3.jpg\" title=\"\"/>,\n",
       " <img alt=\"comic content\" class=\"\" id=\"content_image_3\" oncontextmenu=\"return false\" ondragstart=\"return false\" onerror=\"this.src='https://ssl.pstatic.net/static/comic/images/migration/common/blank.gif'\" onload=\"loadImageEvent(this);\" onselectstart=\"return false\" src=\"https://image-comic.pstatic.net/webtoon/748105/184/20220713180003_94a4101aaed6f394799d5db42b77ddc0_IMAG01_4.jpg\" title=\"\"/>,\n",
       " <img alt=\"comic content\" class=\"\" id=\"content_image_4\" oncontextmenu=\"return false\" ondragstart=\"return false\" onerror=\"this.src='https://ssl.pstatic.net/static/comic/images/migration/common/blank.gif'\" onload=\"loadImageEvent(this);\" onselectstart=\"return false\" src=\"https://image-comic.pstatic.net/webtoon/748105/184/20220713180003_94a4101aaed6f394799d5db42b77ddc0_IMAG01_5.jpg\" title=\"\"/>,\n",
       " <img alt=\"comic content\" class=\"\" id=\"content_image_5\" oncontextmenu=\"return false\" ondragstart=\"return false\" onerror=\"this.src='https://ssl.pstatic.net/static/comic/images/migration/common/blank.gif'\" onload=\"loadImageEvent(this);\" onselectstart=\"return false\" src=\"https://image-comic.pstatic.net/webtoon/748105/184/20220713180003_94a4101aaed6f394799d5db42b77ddc0_IMAG01_6.jpg\" title=\"\"/>,\n",
       " <img alt=\"comic content\" class=\"\" id=\"content_image_6\" oncontextmenu=\"return false\" ondragstart=\"return false\" onerror=\"this.src='https://ssl.pstatic.net/static/comic/images/migration/common/blank.gif'\" onload=\"loadImageEvent(this);\" onselectstart=\"return false\" src=\"https://image-comic.pstatic.net/webtoon/748105/184/20220713180003_94a4101aaed6f394799d5db42b77ddc0_IMAG01_7.jpg\" title=\"\"/>,\n",
       " <img alt=\"comic content\" class=\"\" id=\"content_image_7\" oncontextmenu=\"return false\" ondragstart=\"return false\" onerror=\"this.src='https://ssl.pstatic.net/static/comic/images/migration/common/blank.gif'\" onload=\"loadImageEvent(this);\" onselectstart=\"return false\" src=\"https://image-comic.pstatic.net/webtoon/748105/184/20220713180003_94a4101aaed6f394799d5db42b77ddc0_IMAG01_8.jpg\" title=\"\"/>,\n",
       " <img alt=\"comic content\" class=\"\" id=\"content_image_8\" oncontextmenu=\"return false\" ondragstart=\"return false\" onerror=\"this.src='https://ssl.pstatic.net/static/comic/images/migration/common/blank.gif'\" onload=\"loadImageEvent(this);\" onselectstart=\"return false\" src=\"https://image-comic.pstatic.net/webtoon/748105/184/20220713180003_94a4101aaed6f394799d5db42b77ddc0_IMAG01_9.jpg\" title=\"\"/>,\n",
       " <img alt=\"comic content\" class=\"\" id=\"content_image_9\" oncontextmenu=\"return false\" ondragstart=\"return false\" onerror=\"this.src='https://ssl.pstatic.net/static/comic/images/migration/common/blank.gif'\" onload=\"loadImageEvent(this);\" onselectstart=\"return false\" src=\"https://image-comic.pstatic.net/webtoon/748105/184/20220713180003_94a4101aaed6f394799d5db42b77ddc0_IMAG01_10.jpg\" title=\"\"/>,\n",
       " <img alt=\"comic content\" class=\"\" id=\"content_image_10\" oncontextmenu=\"return false\" ondragstart=\"return false\" onerror=\"this.src='https://ssl.pstatic.net/static/comic/images/migration/common/blank.gif'\" onload=\"loadImageEvent(this);\" onselectstart=\"return false\" src=\"https://image-comic.pstatic.net/webtoon/748105/184/20220713180003_94a4101aaed6f394799d5db42b77ddc0_IMAG01_11.jpg\" title=\"\"/>,\n",
       " <img alt=\"comic content\" class=\"\" id=\"content_image_11\" oncontextmenu=\"return false\" ondragstart=\"return false\" onerror=\"this.src='https://ssl.pstatic.net/static/comic/images/migration/common/blank.gif'\" onload=\"loadImageEvent(this);\" onselectstart=\"return false\" src=\"https://image-comic.pstatic.net/webtoon/748105/184/20220713180003_94a4101aaed6f394799d5db42b77ddc0_IMAG01_12.jpg\" title=\"\"/>,\n",
       " <img alt=\"comic content\" class=\"\" id=\"content_image_12\" oncontextmenu=\"return false\" ondragstart=\"return false\" onerror=\"this.src='https://ssl.pstatic.net/static/comic/images/migration/common/blank.gif'\" onload=\"loadImageEvent(this);\" onselectstart=\"return false\" src=\"https://image-comic.pstatic.net/webtoon/748105/184/20220713180003_94a4101aaed6f394799d5db42b77ddc0_IMAG01_13.jpg\" title=\"\"/>,\n",
       " <img alt=\"comic content\" class=\"\" id=\"content_image_13\" oncontextmenu=\"return false\" ondragstart=\"return false\" onerror=\"this.src='https://ssl.pstatic.net/static/comic/images/migration/common/blank.gif'\" onload=\"loadImageEvent(this);\" onselectstart=\"return false\" src=\"https://image-comic.pstatic.net/webtoon/748105/184/20220713180003_94a4101aaed6f394799d5db42b77ddc0_IMAG01_14.jpg\" title=\"\"/>,\n",
       " <img alt=\"comic content\" class=\"\" id=\"content_image_14\" oncontextmenu=\"return false\" ondragstart=\"return false\" onerror=\"this.src='https://ssl.pstatic.net/static/comic/images/migration/common/blank.gif'\" onload=\"loadImageEvent(this);\" onselectstart=\"return false\" src=\"https://image-comic.pstatic.net/webtoon/748105/184/20220713180003_94a4101aaed6f394799d5db42b77ddc0_IMAG01_15.jpg\" title=\"\"/>,\n",
       " <img alt=\"comic content\" class=\"\" id=\"content_image_15\" oncontextmenu=\"return false\" ondragstart=\"return false\" onerror=\"this.src='https://ssl.pstatic.net/static/comic/images/migration/common/blank.gif'\" onload=\"loadImageEvent(this);\" onselectstart=\"return false\" src=\"https://image-comic.pstatic.net/webtoon/748105/184/20220713180003_94a4101aaed6f394799d5db42b77ddc0_IMAG01_16.jpg\" title=\"\"/>]"
      ]
     },
     "execution_count": 12,
     "metadata": {},
     "output_type": "execute_result"
    }
   ],
   "source": [
    "import os\n",
    "import requests\n",
    "from bs4 import BeautifulSoup as bs\n",
    "\n",
    "url = \"https://comic.naver.com/webtoon/detail?titleId=748105&no=184&weekday=thu\"\n",
    "html = requests.get(url).text\n",
    "soup = bs(html, 'html.parser')\n",
    "result =soup.select('.wt_viewer img')\n",
    "result"
   ]
  },
  {
   "cell_type": "code",
   "execution_count": 16,
   "id": "7dfd195e",
   "metadata": {},
   "outputs": [
    {
     "name": "stdout",
     "output_type": "stream",
     "text": [
      "https://image-comic.pstatic.net/webtoon/img-ctguide-white.png\n",
      "https://image-comic.pstatic.net/webtoon/748105/184/20220713180003_94a4101aaed6f394799d5db42b77ddc0_IMAG01_1.jpg\n",
      "https://image-comic.pstatic.net/webtoon/748105/184/20220713180003_94a4101aaed6f394799d5db42b77ddc0_IMAG01_2.jpg\n",
      "https://image-comic.pstatic.net/webtoon/748105/184/20220713180003_94a4101aaed6f394799d5db42b77ddc0_IMAG01_3.jpg\n",
      "https://image-comic.pstatic.net/webtoon/748105/184/20220713180003_94a4101aaed6f394799d5db42b77ddc0_IMAG01_4.jpg\n",
      "https://image-comic.pstatic.net/webtoon/748105/184/20220713180003_94a4101aaed6f394799d5db42b77ddc0_IMAG01_5.jpg\n",
      "https://image-comic.pstatic.net/webtoon/748105/184/20220713180003_94a4101aaed6f394799d5db42b77ddc0_IMAG01_6.jpg\n",
      "https://image-comic.pstatic.net/webtoon/748105/184/20220713180003_94a4101aaed6f394799d5db42b77ddc0_IMAG01_7.jpg\n",
      "https://image-comic.pstatic.net/webtoon/748105/184/20220713180003_94a4101aaed6f394799d5db42b77ddc0_IMAG01_8.jpg\n",
      "https://image-comic.pstatic.net/webtoon/748105/184/20220713180003_94a4101aaed6f394799d5db42b77ddc0_IMAG01_9.jpg\n",
      "https://image-comic.pstatic.net/webtoon/748105/184/20220713180003_94a4101aaed6f394799d5db42b77ddc0_IMAG01_10.jpg\n",
      "https://image-comic.pstatic.net/webtoon/748105/184/20220713180003_94a4101aaed6f394799d5db42b77ddc0_IMAG01_11.jpg\n",
      "https://image-comic.pstatic.net/webtoon/748105/184/20220713180003_94a4101aaed6f394799d5db42b77ddc0_IMAG01_12.jpg\n",
      "https://image-comic.pstatic.net/webtoon/748105/184/20220713180003_94a4101aaed6f394799d5db42b77ddc0_IMAG01_13.jpg\n",
      "https://image-comic.pstatic.net/webtoon/748105/184/20220713180003_94a4101aaed6f394799d5db42b77ddc0_IMAG01_14.jpg\n",
      "https://image-comic.pstatic.net/webtoon/748105/184/20220713180003_94a4101aaed6f394799d5db42b77ddc0_IMAG01_15.jpg\n",
      "https://image-comic.pstatic.net/webtoon/748105/184/20220713180003_94a4101aaed6f394799d5db42b77ddc0_IMAG01_16.jpg\n"
     ]
    }
   ],
   "source": [
    "for tag in result:\n",
    "    print(tag['src'])"
   ]
  },
  {
   "cell_type": "code",
   "execution_count": 24,
   "id": "fde08361",
   "metadata": {},
   "outputs": [],
   "source": [
    "if not(os.path.isdir('./webtoon')):\n",
    "    os.mkdir(os.path.join('./webtoon'))"
   ]
  },
  {
   "cell_type": "code",
   "execution_count": 26,
   "id": "a2ea313a",
   "metadata": {},
   "outputs": [],
   "source": [
    "i=0\n",
    "\n",
    "for tag in result:\n",
    "    img_url = tag['src']\n",
    "    headers = {'Referer': img_url}\n",
    "    img_data = requests.get(img_url, headers = headers).content\n",
    "    #print(img_data)\n",
    "    save_img_name = \"./webtoon/\" + str(i).zfill(3) + img_url[-4:]\n",
    "    with open(save_img_name, 'wb') as f:\n",
    "        f.write(img_data)\n",
    "        \n",
    "    i += 1"
   ]
  },
  {
   "cell_type": "code",
   "execution_count": null,
   "id": "25b00b8a",
   "metadata": {},
   "outputs": [],
   "source": []
  }
 ],
 "metadata": {
  "kernelspec": {
   "display_name": "Python 3 (ipykernel)",
   "language": "python",
   "name": "python3"
  },
  "language_info": {
   "codemirror_mode": {
    "name": "ipython",
    "version": 3
   },
   "file_extension": ".py",
   "mimetype": "text/x-python",
   "name": "python",
   "nbconvert_exporter": "python",
   "pygments_lexer": "ipython3",
   "version": "3.9.12"
  }
 },
 "nbformat": 4,
 "nbformat_minor": 5
}
