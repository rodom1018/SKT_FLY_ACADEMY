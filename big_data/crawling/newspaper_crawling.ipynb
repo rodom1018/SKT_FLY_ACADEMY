{
 "cells": [
  {
   "cell_type": "code",
   "execution_count": 1,
   "id": "8d74b206",
   "metadata": {},
   "outputs": [
    {
     "name": "stdout",
     "output_type": "stream",
     "text": [
      "Requirement already satisfied: newspaper3k in c:\\users\\016\\anaconda3\\lib\\site-packages (0.2.8)\n",
      "Requirement already satisfied: python-dateutil>=2.5.3 in c:\\users\\016\\anaconda3\\lib\\site-packages (from newspaper3k) (2.8.2)\n",
      "Requirement already satisfied: feedparser>=5.2.1 in c:\\users\\016\\anaconda3\\lib\\site-packages (from newspaper3k) (6.0.10)\n",
      "Requirement already satisfied: Pillow>=3.3.0 in c:\\users\\016\\anaconda3\\lib\\site-packages (from newspaper3k) (9.0.1)\n",
      "Requirement already satisfied: beautifulsoup4>=4.4.1 in c:\\users\\016\\anaconda3\\lib\\site-packages (from newspaper3k) (4.11.1)\n",
      "Requirement already satisfied: cssselect>=0.9.2 in c:\\users\\016\\anaconda3\\lib\\site-packages (from newspaper3k) (1.1.0)\n",
      "Requirement already satisfied: tinysegmenter==0.3 in c:\\users\\016\\anaconda3\\lib\\site-packages (from newspaper3k) (0.3)\n",
      "Requirement already satisfied: requests>=2.10.0 in c:\\users\\016\\anaconda3\\lib\\site-packages (from newspaper3k) (2.27.1)\n",
      "Requirement already satisfied: feedfinder2>=0.0.4 in c:\\users\\016\\anaconda3\\lib\\site-packages (from newspaper3k) (0.0.4)\n",
      "Requirement already satisfied: lxml>=3.6.0 in c:\\users\\016\\anaconda3\\lib\\site-packages (from newspaper3k) (4.8.0)\n",
      "Requirement already satisfied: jieba3k>=0.35.1 in c:\\users\\016\\anaconda3\\lib\\site-packages (from newspaper3k) (0.35.1)\n",
      "Requirement already satisfied: PyYAML>=3.11 in c:\\users\\016\\anaconda3\\lib\\site-packages (from newspaper3k) (6.0)\n",
      "Requirement already satisfied: tldextract>=2.0.1 in c:\\users\\016\\anaconda3\\lib\\site-packages (from newspaper3k) (3.2.0)\n",
      "Requirement already satisfied: nltk>=3.2.1 in c:\\users\\016\\anaconda3\\lib\\site-packages (from newspaper3k) (3.7)\n",
      "Requirement already satisfied: soupsieve>1.2 in c:\\users\\016\\anaconda3\\lib\\site-packages (from beautifulsoup4>=4.4.1->newspaper3k) (2.3.1)\n",
      "Requirement already satisfied: six in c:\\users\\016\\anaconda3\\lib\\site-packages (from feedfinder2>=0.0.4->newspaper3k) (1.16.0)\n",
      "Requirement already satisfied: sgmllib3k in c:\\users\\016\\anaconda3\\lib\\site-packages (from feedparser>=5.2.1->newspaper3k) (1.0.0)\n",
      "Requirement already satisfied: joblib in c:\\users\\016\\anaconda3\\lib\\site-packages (from nltk>=3.2.1->newspaper3k) (1.1.0)\n",
      "Requirement already satisfied: regex>=2021.8.3 in c:\\users\\016\\anaconda3\\lib\\site-packages (from nltk>=3.2.1->newspaper3k) (2022.3.15)\n",
      "Requirement already satisfied: tqdm in c:\\users\\016\\anaconda3\\lib\\site-packages (from nltk>=3.2.1->newspaper3k) (4.64.0)\n",
      "Requirement already satisfied: click in c:\\users\\016\\anaconda3\\lib\\site-packages (from nltk>=3.2.1->newspaper3k) (8.0.4)\n",
      "Requirement already satisfied: idna<4,>=2.5 in c:\\users\\016\\anaconda3\\lib\\site-packages (from requests>=2.10.0->newspaper3k) (3.3)\n",
      "Requirement already satisfied: certifi>=2017.4.17 in c:\\users\\016\\anaconda3\\lib\\site-packages (from requests>=2.10.0->newspaper3k) (2021.10.8)\n",
      "Requirement already satisfied: charset-normalizer~=2.0.0 in c:\\users\\016\\anaconda3\\lib\\site-packages (from requests>=2.10.0->newspaper3k) (2.0.4)\n",
      "Requirement already satisfied: urllib3<1.27,>=1.21.1 in c:\\users\\016\\anaconda3\\lib\\site-packages (from requests>=2.10.0->newspaper3k) (1.26.9)\n",
      "Requirement already satisfied: filelock>=3.0.8 in c:\\users\\016\\anaconda3\\lib\\site-packages (from tldextract>=2.0.1->newspaper3k) (3.6.0)\n",
      "Requirement already satisfied: requests-file>=1.4 in c:\\users\\016\\anaconda3\\lib\\site-packages (from tldextract>=2.0.1->newspaper3k) (1.5.1)\n",
      "Requirement already satisfied: colorama in c:\\users\\016\\anaconda3\\lib\\site-packages (from click->nltk>=3.2.1->newspaper3k) (0.4.4)\n",
      "Note: you may need to restart the kernel to use updated packages.\n"
     ]
    }
   ],
   "source": [
    "pip install newspaper3k"
   ]
  },
  {
   "cell_type": "code",
   "execution_count": 2,
   "id": "27f97d52",
   "metadata": {},
   "outputs": [
    {
     "name": "stdout",
     "output_type": "stream",
     "text": [
      "※CBS노컷뉴스는 여러분의 제보로 함께 세상을 바꿉니다. 각종 비리와 부당대우, 사건사고와 미담 등 모든 얘깃거리를 알려주세요. 이메일 : jebo@cbs.co.kr\n",
      "\n",
      "카카오톡 : @노컷뉴스\n",
      "\n",
      "판문점 북송 과정에서 탈북 어민이 저항하는 사진과 나사(NASA)의 제임스 웹 우주 망원경이 촬영한 'SMACS 0723' '용골자리 대성운' 사진을 나란히 펼쳐 놓고 한참을 응시해본다.사람이 가시적으로 볼 수 없는 곳, 적외선을 통해 촬영한 우주 은하단 모습은 비현실적이다. 반짝거리는 별 하나하나가 사실은 수천 개의 별이 모인 '은하'라 한다. 그 사진 한 장이 '은하단(집단)'이라 한다. '내 존재가 얼마나 미약하고 미력한가'라는 상념에 넋을 잃고 빠져든다. 용골성운의 장대한 황토 산맥 물결 같은 '성운 파노라마'가 압도적이다.그러나 현실에서 벌어지고 있는 강제 북송 논란 뉴스는 '공상'을 허락하지 않는다. 이 뉴스를 보며 맥락을 어떻게 읽어야 할 것인가 고민한다. 대통령실과 여당은 '반인륜적 반인도적 범죄 행위'라 규탄한다. 야당은 '16명의 살해범을 보호하란 말이냐'고 항변한다. 실정 법에 따른 처벌 문제와 함께 중범죄 혐의를 받는 북한 주민을 어떻게 처리하는 것이 '정의'에 부합하는지 이 문제는 묻는다.양측 논점을 단순화해본다. 여당 주장은 아무리 '중죄인'이라 해도 북한에 돌아가면 생명이 여의치 못할 상황이 분명한데 귀송하는 것이 반인도적이라는 것이다. 설사 그들의 살인 혐의를 입증할 증거가 없다손 치더라도 헌법상 북한 주민도 우리 국민으로 취급되는 만큼 국내 재판 절차를 거쳐 유.무죄를 확정하고 어떤 조치를 했어야 한다는 논리다. 더욱이 통일부가 찍어둔 사진에서 북송에 강력히 저항하는 어부 사진을 보니 문재인 정부는 반인륜적 행위를 저지른 것이 분명하다는 것이다.반면 야당은 '두 명의 어민은 자유 대한민국이 그립고 자유가 그리워 한국에 온 것이 아니다'라고 판단했다고 한다. 그들이 귀순 의사를 명확하게 표시한 것도 아니고 동해상에서 북한 경비정에 쫓겨 달아나는 사람들이었고 우리 해역에 들어와 강제로 체포·나포했다는 것이다. 그러므로 그들은 탈북자 차원에서 보호·지원해야 할 사람들이 아니고 북송시키는 것이 이익에 부합했다는 논리이다.먼저 이 상반된 주장을 이해하기 위해 헌법 제 3조와 4조를 들여다봐야 한다. 헌법 3조는 한반도를 우리 영토로 규정하고 있고, 그에 따라 북한 주민도 우리 국민에 해당하므로 북한 정권은 반국가단체에 해당한다. 이에 반해 헌법 4조는 북한을 대화와 협력의 대상으로 규정하고 있다. 북한을 '잠정적 특수 관계'로 이중적 지위를 규정하고 있는 것은 헌법 3조와 4조 정신을 동시에 감안한 것이라고 할 수 있다.헌법과 실정법만 주목한다면 문재인 정부의 어민 북송행위는 분명히 위법 행위 시비를 낳는다. 그 사람이 살인을 했든, 마약을 했든 북한 주민도 우리 국민인데 국내 법 절차로 먼저 처벌 여부를 결정했어야 한다는 논리가 성립한다.자국민은 출입국관리법상 강제 퇴거 대상이 될 수 없다. 물론 사법부가 최근 들어 북한 주민을 외국인에 준하는 지위에 있는 자로 판시한 경우가 있다. 그렇다 손 치더라도 강제 퇴거 조항은 이번 사건에 적용될 수 없다.왜냐면 강제 퇴거 조항은 본인의 의사에 반해 강제 출국시키는 행위인데 북한 주민 2명은 귀순 의사가 없었으므로 본인 의사에 반해 강제 퇴거 행위를 집행할 수 없는 것이다. 이 부분에서 문재인 정부의 행위는 법 준수상 약점을 지니고 있다.사건에서 중요한 또 하나의 핵심 쟁점은 '16명을 살해한 것이 사실이냐'는 것이다. 북송 어민 2명이 16명을 살해했다는 직접 증거는 없다. 문재인 정부는 북한 측 '감청'을 통해 이들이 16명을 살해한 사람들이라고 판단했다그들은 나포 되기 훨씬 이전 러시아 해역 등지에서 조업 하던 중 살인 행위를 저지른 것으로 알려졌으므로 우리 정부가 살인 행위에 대한 직접 증거를 확보하는 것은 원천적으로 불가능하다. 야당이 우리 법원에 재판으로 갔다면 유죄를 증명하는 것이 불가능했다는 주장은 그런 맥락이다.그럼에도 불구하고 북한 주민도 우리 국민이므로 비록 증거가 없더라도 송환하지 않고 국내 법 절차에 따라 문재인 정부가 어민들을 재판에 넘겼더라면 어떻게 됐을까. '무죄'가 선고됐을 가능성이 매우 높다고 봐야 할 것이다.여기서 또 다른 문제가 제기된다. 법원에서 무죄가 확정됐다 치자. 그렇다고 국내 법에 따른 절차를 모두 적법하게 완료했다며 그 다음 어민들을 강제 북송할 수 있겠는가. 논란은 또 커질 것이다.무죄인데 보내면 안된다는 논리와 비록 실정법상 무죄를 선고 받았지만 여전히 16명을 살해했다는 의심을 거둘 수 없다는 양심에 따라 그들을 강제 추방하는 것이 낫다는 논리가 대립할 것이다. 이것은 정의의 문제인가, 실효적으로 지배하는 국익에 부합하는 것인가.사진 한 장을 보고 분노할 수 있다. 또 사진 한 장을 보고 공상에 빠질 수도 있다. 우리 일상은 가끔 경계에 있곤 한다. 사실적 문제를 실정법으로 따져 봐야 할 때도 있고 사회적 공론화를 거쳐야 할 때도 있다. 정의는 강자의 편이라면 이 문제는 법적 처벌로 귀결될 공산이 커졌다.북한에서 살인 범죄를 저지른 혐의로 쫓기는 어민이 우리 해역에 들어오는 '우연'이 생겼고, 그 문제 처리 과정에 실정법을 어겼다는 '역설'이 등장한다. '우연'과 '역설', 또 '그 역설과 마주한 현실'이 지속적으로 반복되는 게 삶의 짖궂은 운명이라는 것. 저 웅장한 용골성운은 알고 있을까.\n"
     ]
    }
   ],
   "source": [
    "import newspaper\n",
    "\n",
    "link = 'https://n.news.naver.com/article/079/0003664140?cds=news_media_pc&type=editn'\n",
    "article = newspaper.Article(link, language='ko')\n",
    "article.download()\n",
    "article.parse()\n",
    "print(article.text)"
   ]
  },
  {
   "cell_type": "code",
   "execution_count": null,
   "id": "d00e95e0",
   "metadata": {},
   "outputs": [],
   "source": []
  }
 ],
 "metadata": {
  "kernelspec": {
   "display_name": "Python 3 (ipykernel)",
   "language": "python",
   "name": "python3"
  },
  "language_info": {
   "codemirror_mode": {
    "name": "ipython",
    "version": 3
   },
   "file_extension": ".py",
   "mimetype": "text/x-python",
   "name": "python",
   "nbconvert_exporter": "python",
   "pygments_lexer": "ipython3",
   "version": "3.9.12"
  }
 },
 "nbformat": 4,
 "nbformat_minor": 5
}
