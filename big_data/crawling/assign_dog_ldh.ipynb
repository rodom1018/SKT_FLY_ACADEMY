{
 "cells": [
  {
   "cell_type": "code",
   "execution_count": 26,
   "id": "94b7460d",
   "metadata": {},
   "outputs": [],
   "source": [
    "import os\n",
    "import requests\n",
    "from bs4 import BeautifulSoup as bs\n",
    "\n",
    "url = \"https://www.bing.com/images/search?q=%ea%b0%95%ec%95%84%ec%a7%80&form=HDRSC3&first=1&tsc=ImageHoverTitle\"\n",
    "html = requests.get(url).text\n",
    "soup = bs(html, 'html.parser')"
   ]
  },
  {
   "cell_type": "code",
   "execution_count": 44,
   "id": "44f4ccd8",
   "metadata": {},
   "outputs": [],
   "source": [
    "result = soup.select('.img')\n",
    "#print(result)\n",
    "for tag in result:\n",
    "    print(tag['src'])"
   ]
  },
  {
   "cell_type": "code",
   "execution_count": 45,
   "id": "362a0538",
   "metadata": {},
   "outputs": [],
   "source": [
    "if not(os.path.isdir('./my_image')):\n",
    "    os.mkdir(os.path.join('./my_image'))"
   ]
  },
  {
   "cell_type": "code",
   "execution_count": 46,
   "id": "945db8f8",
   "metadata": {},
   "outputs": [],
   "source": [
    "count = 0\n",
    "\n",
    "for tag in result:\n",
    "    img_url = tag['src']\n",
    "    img_data = requests.get(img_url).content\n",
    "    #print(img_data)\n",
    "    save_img_name = \"./my_image/\" + str(count).zfill(3) + \".png\"\n",
    "    \n",
    "    with open(save_img_name, 'wb') as f:\n",
    "        f.write(img_data)\n",
    "    count += 1"
   ]
  },
  {
   "cell_type": "code",
   "execution_count": null,
   "id": "bc7925d2",
   "metadata": {},
   "outputs": [],
   "source": []
  },
  {
   "cell_type": "code",
   "execution_count": null,
   "id": "b8ca80b0",
   "metadata": {},
   "outputs": [],
   "source": []
  }
 ],
 "metadata": {
  "kernelspec": {
   "display_name": "Python 3 (ipykernel)",
   "language": "python",
   "name": "python3"
  },
  "language_info": {
   "codemirror_mode": {
    "name": "ipython",
    "version": 3
   },
   "file_extension": ".py",
   "mimetype": "text/x-python",
   "name": "python",
   "nbconvert_exporter": "python",
   "pygments_lexer": "ipython3",
   "version": "3.9.12"
  }
 },
 "nbformat": 4,
 "nbformat_minor": 5
}
