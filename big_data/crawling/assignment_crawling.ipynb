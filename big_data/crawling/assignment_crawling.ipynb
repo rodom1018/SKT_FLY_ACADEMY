{
 "cells": [
  {
   "cell_type": "code",
   "execution_count": 101,
   "id": "89612bef",
   "metadata": {},
   "outputs": [
    {
     "name": "stdout",
     "output_type": "stream",
     "text": [
      "Requirement already satisfied: requests in c:\\users\\016\\anaconda3\\lib\\site-packages (2.27.1)\n",
      "Requirement already satisfied: certifi>=2017.4.17 in c:\\users\\016\\anaconda3\\lib\\site-packages (from requests) (2021.10.8)\n",
      "Requirement already satisfied: urllib3<1.27,>=1.21.1 in c:\\users\\016\\anaconda3\\lib\\site-packages (from requests) (1.26.9)\n",
      "Requirement already satisfied: charset-normalizer~=2.0.0 in c:\\users\\016\\anaconda3\\lib\\site-packages (from requests) (2.0.4)\n",
      "Requirement already satisfied: idna<4,>=2.5 in c:\\users\\016\\anaconda3\\lib\\site-packages (from requests) (3.3)\n",
      "Requirement already satisfied: BeautifulSoup4 in c:\\users\\016\\anaconda3\\lib\\site-packages (4.11.1)\n",
      "Requirement already satisfied: soupsieve>1.2 in c:\\users\\016\\anaconda3\\lib\\site-packages (from BeautifulSoup4) (2.3.1)\n",
      "Requirement already satisfied: newspaper3k in c:\\users\\016\\anaconda3\\lib\\site-packages (0.2.8)\n",
      "Requirement already satisfied: beautifulsoup4>=4.4.1 in c:\\users\\016\\anaconda3\\lib\\site-packages (from newspaper3k) (4.11.1)\n",
      "Requirement already satisfied: feedparser>=5.2.1 in c:\\users\\016\\anaconda3\\lib\\site-packages (from newspaper3k) (6.0.10)\n",
      "Requirement already satisfied: jieba3k>=0.35.1 in c:\\users\\016\\anaconda3\\lib\\site-packages (from newspaper3k) (0.35.1)\n",
      "Requirement already satisfied: python-dateutil>=2.5.3 in c:\\users\\016\\anaconda3\\lib\\site-packages (from newspaper3k) (2.8.2)\n",
      "Requirement already satisfied: nltk>=3.2.1 in c:\\users\\016\\anaconda3\\lib\\site-packages (from newspaper3k) (3.7)\n",
      "Requirement already satisfied: tldextract>=2.0.1 in c:\\users\\016\\anaconda3\\lib\\site-packages (from newspaper3k) (3.2.0)\n",
      "Requirement already satisfied: requests>=2.10.0 in c:\\users\\016\\anaconda3\\lib\\site-packages (from newspaper3k) (2.27.1)\n",
      "Requirement already satisfied: feedfinder2>=0.0.4 in c:\\users\\016\\anaconda3\\lib\\site-packages (from newspaper3k) (0.0.4)\n",
      "Requirement already satisfied: cssselect>=0.9.2 in c:\\users\\016\\anaconda3\\lib\\site-packages (from newspaper3k) (1.1.0)\n",
      "Requirement already satisfied: PyYAML>=3.11 in c:\\users\\016\\anaconda3\\lib\\site-packages (from newspaper3k) (6.0)\n",
      "Requirement already satisfied: tinysegmenter==0.3 in c:\\users\\016\\anaconda3\\lib\\site-packages (from newspaper3k) (0.3)\n",
      "Requirement already satisfied: lxml>=3.6.0 in c:\\users\\016\\anaconda3\\lib\\site-packages (from newspaper3k) (4.8.0)\n",
      "Requirement already satisfied: Pillow>=3.3.0 in c:\\users\\016\\anaconda3\\lib\\site-packages (from newspaper3k) (9.0.1)\n",
      "Requirement already satisfied: soupsieve>1.2 in c:\\users\\016\\anaconda3\\lib\\site-packages (from beautifulsoup4>=4.4.1->newspaper3k) (2.3.1)\n",
      "Requirement already satisfied: six in c:\\users\\016\\anaconda3\\lib\\site-packages (from feedfinder2>=0.0.4->newspaper3k) (1.16.0)\n",
      "Requirement already satisfied: sgmllib3k in c:\\users\\016\\anaconda3\\lib\\site-packages (from feedparser>=5.2.1->newspaper3k) (1.0.0)\n",
      "Requirement already satisfied: joblib in c:\\users\\016\\anaconda3\\lib\\site-packages (from nltk>=3.2.1->newspaper3k) (1.1.0)\n",
      "Requirement already satisfied: click in c:\\users\\016\\anaconda3\\lib\\site-packages (from nltk>=3.2.1->newspaper3k) (8.0.4)\n",
      "Requirement already satisfied: tqdm in c:\\users\\016\\anaconda3\\lib\\site-packages (from nltk>=3.2.1->newspaper3k) (4.64.0)\n",
      "Requirement already satisfied: regex>=2021.8.3 in c:\\users\\016\\anaconda3\\lib\\site-packages (from nltk>=3.2.1->newspaper3k) (2022.3.15)\n",
      "Requirement already satisfied: charset-normalizer~=2.0.0 in c:\\users\\016\\anaconda3\\lib\\site-packages (from requests>=2.10.0->newspaper3k) (2.0.4)\n",
      "Requirement already satisfied: urllib3<1.27,>=1.21.1 in c:\\users\\016\\anaconda3\\lib\\site-packages (from requests>=2.10.0->newspaper3k) (1.26.9)\n",
      "Requirement already satisfied: idna<4,>=2.5 in c:\\users\\016\\anaconda3\\lib\\site-packages (from requests>=2.10.0->newspaper3k) (3.3)\n",
      "Requirement already satisfied: certifi>=2017.4.17 in c:\\users\\016\\anaconda3\\lib\\site-packages (from requests>=2.10.0->newspaper3k) (2021.10.8)\n",
      "Requirement already satisfied: filelock>=3.0.8 in c:\\users\\016\\anaconda3\\lib\\site-packages (from tldextract>=2.0.1->newspaper3k) (3.6.0)\n",
      "Requirement already satisfied: requests-file>=1.4 in c:\\users\\016\\anaconda3\\lib\\site-packages (from tldextract>=2.0.1->newspaper3k) (1.5.1)\n",
      "Requirement already satisfied: colorama in c:\\users\\016\\anaconda3\\lib\\site-packages (from click->nltk>=3.2.1->newspaper3k) (0.4.4)\n"
     ]
    }
   ],
   "source": [
    "!pip install requests\n",
    "!pip install BeautifulSoup4\n",
    "!pip install newspaper3k"
   ]
  },
  {
   "cell_type": "code",
   "execution_count": 102,
   "id": "a86f5bcf",
   "metadata": {},
   "outputs": [],
   "source": [
    "import requests\n",
    "from bs4 import BeautifulSoup as bs\n",
    "import newspaper"
   ]
  },
  {
   "cell_type": "code",
   "execution_count": 103,
   "id": "636c48fc",
   "metadata": {},
   "outputs": [],
   "source": [
    "headers = {\"user-agent\": \"Mozilla/5.0 (Windows NT 10.0; Win64; x64) AppleWebKit/537.36 (KHTML, like Gecko) Chrome/103.0.5060.114 Safari/537.36 Edg/103.0.1264.49\"}"
   ]
  },
  {
   "cell_type": "code",
   "execution_count": 104,
   "id": "fe4a111e",
   "metadata": {},
   "outputs": [],
   "source": [
    "res = requests.get('https://news.naver.com/main/list.naver?mode=LS2D&mid=shm&sid1=105&sid2=731', headers = headers)"
   ]
  },
  {
   "cell_type": "code",
   "execution_count": 105,
   "id": "d69c07ff",
   "metadata": {},
   "outputs": [],
   "source": [
    "soup = bs(res.content, 'html.parser')"
   ]
  },
  {
   "cell_type": "code",
   "execution_count": 106,
   "id": "3184c1fe",
   "metadata": {},
   "outputs": [],
   "source": [
    "result = soup.select('dt>a')"
   ]
  },
  {
   "cell_type": "code",
   "execution_count": 107,
   "id": "3f71e813",
   "metadata": {
    "scrolled": false
   },
   "outputs": [
    {
     "name": "stdout",
     "output_type": "stream",
     "text": [
      "https://n.news.naver.com/mnews/article/092/0002262458?sid=105\n",
      "https://n.news.naver.com/mnews/article/092/0002262458?sid=105\n",
      "https://n.news.naver.com/mnews/article/001/0013311115?sid=105\n",
      "https://n.news.naver.com/mnews/article/001/0013311115?sid=105\n",
      "https://n.news.naver.com/mnews/article/011/0004076234?sid=105\n",
      "https://n.news.naver.com/mnews/article/011/0004076234?sid=105\n",
      "https://n.news.naver.com/mnews/article/014/0004867312?sid=105\n",
      "https://n.news.naver.com/mnews/article/014/0004867312?sid=105\n",
      "https://n.news.naver.com/mnews/article/001/0013311038?sid=105\n",
      "https://n.news.naver.com/mnews/article/001/0013311038?sid=105\n",
      "https://n.news.naver.com/mnews/article/001/0013311017?sid=105\n",
      "https://n.news.naver.com/mnews/article/001/0013311017?sid=105\n",
      "https://n.news.naver.com/mnews/article/001/0013310876?sid=105\n",
      "https://n.news.naver.com/mnews/article/001/0013310876?sid=105\n",
      "https://n.news.naver.com/mnews/article/001/0013310872?sid=105\n",
      "https://n.news.naver.com/mnews/article/001/0013310872?sid=105\n",
      "https://n.news.naver.com/mnews/article/421/0006217494?sid=105\n",
      "https://n.news.naver.com/mnews/article/421/0006217494?sid=105\n",
      "https://n.news.naver.com/mnews/article/009/0004991374?sid=105\n",
      "https://n.news.naver.com/mnews/article/003/0011304598?sid=105\n",
      "https://n.news.naver.com/mnews/article/003/0011304598?sid=105\n",
      "https://n.news.naver.com/mnews/article/003/0011304596?sid=105\n",
      "https://n.news.naver.com/mnews/article/003/0011304596?sid=105\n",
      "https://n.news.naver.com/mnews/article/138/0002128614?sid=105\n",
      "https://n.news.naver.com/mnews/article/138/0002128614?sid=105\n",
      "https://n.news.naver.com/mnews/article/001/0013310542?sid=105\n",
      "https://n.news.naver.com/mnews/article/001/0013310542?sid=105\n",
      "https://n.news.naver.com/mnews/article/011/0004076160?sid=105\n",
      "https://n.news.naver.com/mnews/article/011/0004076160?sid=105\n",
      "https://n.news.naver.com/mnews/article/001/0013310491?sid=105\n",
      "https://n.news.naver.com/mnews/article/001/0013310491?sid=105\n",
      "https://n.news.naver.com/mnews/article/138/0002128605?sid=105\n",
      "https://n.news.naver.com/mnews/article/138/0002128605?sid=105\n",
      "https://n.news.naver.com/mnews/article/003/0011304268?sid=105\n",
      "https://n.news.naver.com/mnews/article/003/0011304268?sid=105\n",
      "https://n.news.naver.com/mnews/article/138/0002128597?sid=105\n",
      "https://n.news.naver.com/mnews/article/138/0002128597?sid=105\n",
      "https://n.news.naver.com/mnews/article/092/0002262418?sid=105\n",
      "https://n.news.naver.com/mnews/article/092/0002262418?sid=105\n"
     ]
    }
   ],
   "source": [
    "for num in result:\n",
    "    print(num['href'])"
   ]
  },
  {
   "cell_type": "code",
   "execution_count": 108,
   "id": "9088d81c",
   "metadata": {},
   "outputs": [
    {
     "name": "stdout",
     "output_type": "stream",
     "text": [
      "삼성 갤럭시Z폴드 4 렌더링 (사진= 온리크스, 스마트프릭스)\n",
      "\n",
      "사진=에반블라스 트위터\n",
      "\n",
      "다음 달 공개될 것으로 예상되는 삼성전자의 차세대 폴더블폰 ‘갤럭시Z폴드 4’의 스토리지 사양과 색상 옵션이 공개됐다.IT매체 나인투파이브구글은 13일(현지시간) 유명 IT 팁스터 에반 블라스의 트위터를 인용해 삼성 갤럭시Z폴드 4의 사양 정보를 보도했다.에반 블라스는 트위터를 통해 갤럭시Z폴드 4가 ▲베이지 128GB·256GB·512GB ▲버건디 레드 256GB·512GB ▲그레이 그린 128GB·256GB·512GB ▲팬텀 블랙 128GB·256GB·512GB 모델로 나올 것이라고 밝혔다.지난 달 IT매체 샘모바일은 갤럭시Z폴드 4에 1TB 스토리지 옵션이 추가될 것이라고 보도했다. 하지만, 에반 블라스의 말대로면 최대 512GB까지만 제공되는 셈이다.이에 대해 나인투파이브구글은 에반 블라스가 언급한 정보는 미국 시장에 한정된 것으로 보이며, 향후 삼성전자가 출시 국가별로 차별화 된 사양을 제공할 가능성도 있다고 전했다.버건디 레드 색상의 경우 얼마 전 디스플레이 분석가 로스 영도 이를 전망한 바 있다.삼성전자는 다음달 10일 언팩을 열고 갤럭시Z 폴드4, 갤럭시Z 플립4를 포함한 신제품을 공개할 것으로 알려졌다.\n",
      "==============================================\n",
      "==============================================\n",
      "(의정부=연합뉴스) 권숙희 기자 = 경기북부경찰청은 14일 GS네트웍스와 함께 다음달 31일까지 '중고거래 사기 예방 캠페인'을 진행한다고 밝혔다.전국 GS편의점에서 택배 물품을 접수하면서 이벤트 페이지에 접속, '사이버캅'을 입력하면 택배 300원 할인쿠폰을 받을 수 있고 기념품 추첨 신청도 가능하다.'사이버캅'은 경찰청이 중고거래 사기를 예방하기 위해 제작한 스마트폰 앱으로, 계좌번호나 전화번호, 안전거래 링크주소 등을 조회하면 사기 피해 접수가 된 적 있는지를 확인할 수 있다.suki@yna.co.kr\n",
      "==============================================\n",
      "==============================================\n",
      "SK(034730)\n",
      "\n",
      "[서울경제]커뮤니케이션즈가 ‘한국판 레딧’을 표방한 서비스 ‘네이트 썰’을 출시했다고 14일 밝혔다.네이트 썰은 관심사 중심 개방형 커뮤니티 서비스로, 사용자가 원하는 주제나 관심사에 맞는 세부 토픽을 개설하고 주제별 링크를 공유하며 소통할 수 있다. 이 점에서 개인을 중심으로 콘텐츠가 유통되는 사회관계망서비스(SNS)나 메신저 등 여타 커뮤니티 서비스와 차별된다고 이 회사는 설명했다. 또한 소통 지수 기능을 도입해 활동의 재미를 높였다. 게시글·댓글 작성 수나 공감 받는 횟수 등에 연동해 소통 지수 포인트를 부여받도록 했다. 또 소통 지수에 따라 획득할 수 있는 레벨이나 뱃지도 세분화된다.이번 출시는 모바일 사용 환경에 최적화된 링크 첨부형 에디터 버전으로 출시됐다. 향후 토론이나 의견, 관심사나 일상 등에 대한 사용자들의 공유 및 소통 수요에 맞춰 이미지·동영상 첨부형, 설문형, Q&A형 등을 추가한 확장 버전도 선보일 예정이다.\n",
      "==============================================\n",
      "==============================================\n",
      "[파이낸셜뉴스] '주 32시간제' 등 근무 제도 혁신을 추진해 온 우아한형제들이 새로운 근무 형태를 추가 실험한다. 내년부터는 근무장소와 시간 모두 임직원이 각자 선택해서 일할 수 있게 된다는 설명이다.우아한형제들은 지난 13일 임직원 전체를 대상으로 진행한 온라인 전사발표에서 근무지 자율선택제 및 선택적 근로시간제 계획을 발표했다고 14일 밝혔다. 김범준 우아한형제들 대표는 \"우리가 일을 더 잘하기 위해 자율을 기반으로 한 선택적 근무제도를 확대하기로 했다\"고 강조했다.내년 1월 1일부터 도입 예정인 근무지 자율선택제는 구성원 모두가 근무 시간 중 어디서든 연결돼 업무에 몰입할 수 있는 근무 장소를 자율적으로 선택할 수 있는 내용을 골자로 한다. 사무실 출근, 재택 근무 외 제3의 장소 어디서든 근무할 수 있다는 설명이다. 다만 해외 등 시차가 있는 곳에선 한국시간 기준 '코웍(co-work) 타임'을 포함한 본인의 근무시간을 준수하면 된다. 코웍 타임은 구성원 간 원활한 업무 소통을 위해 필수로 근무해야 하는 시간을 의미한다.근무 시간도 자율적으로 선택할 수 있게 된다. 올 초 도입된 '개인별 시차출퇴근제'에서 더 나아가 내년부터는 유연근무제의 일환인 '선택적 근로시간제'를 도입하기로 하면서다. 기존 하루 7시간(월요일은 4시간), 주 32시간 기준에서 월 단위 총 근무시간 내 개인의 업무 스케줄과 컨디션 등에 따라 자율적으로 업무 시간을 분배하는 방식이다.올해 연말까지는 지난달부터 적용 중인 주1회 사무실 출근을 유지할 예정이다.앞서 우아한형제들은 새로운 근무제를 선도적으로 도입해 왔다. 2015년 1월에는 월요일 오후 1시에 출근하는 주 4.5일제를 도입, 2017년 3월 주 37.5시간에서 2시간30분을 단축한 주 35시간을 안착시켰다.2018년 4월 포괄임금제를 폐지, 같은 해 7월에는 유연한 근무형태를 위해 부서별 시차출퇴근제도를 도입했다. 올해 1월에는 주 32시간제를 도입한 데 이어 개인별 시차출퇴근제도 적용해 시행 중이다.우아한형제들은 향후에도 노사협의회 '우아한토크', 구성원 간 협의체 '우아한일문화 TF' 등을 통해 구성원이 만족할 수 있는 근무 문화를 설계해 나갈 계획이다.김 대표는 \"코로나19 등 여러 상황을 겪으면서 근무환경에 대한 구성원들의 생각과 니즈가 점점 변화해 가고 있는 걸 확인할 수 있었고, 이에 따라 점진적으로 자율근무제도를 도입하고자 했다\"며 \"우아한형제들의 핵심 가치인 '규율 위의 자율'을 보장해주는 근무제도 아래서 보다 효과적이면서 효율적으로 일하는 문화를 만들어 나가는 것이 지향점이다\"고 설명했다.#우아한형제들 #근무제 #자율제\n",
      "==============================================\n"
     ]
    }
   ],
   "source": [
    "count = 0\n",
    "for num in result:\n",
    "    link = num['href']\n",
    "    article = newspaper.Article(link, language='ko')\n",
    "    article.download()\n",
    "    article.parse()\n",
    "    if count%2 == 0 :print(article.text)\n",
    "    count+=1 \n",
    "    if count >=8: break\n",
    "    else: print(\"==============================================\")"
   ]
  },
  {
   "cell_type": "code",
   "execution_count": null,
   "id": "644264d1",
   "metadata": {},
   "outputs": [],
   "source": []
  }
 ],
 "metadata": {
  "kernelspec": {
   "display_name": "Python 3 (ipykernel)",
   "language": "python",
   "name": "python3"
  },
  "language_info": {
   "codemirror_mode": {
    "name": "ipython",
    "version": 3
   },
   "file_extension": ".py",
   "mimetype": "text/x-python",
   "name": "python",
   "nbconvert_exporter": "python",
   "pygments_lexer": "ipython3",
   "version": "3.9.12"
  }
 },
 "nbformat": 4,
 "nbformat_minor": 5
}
